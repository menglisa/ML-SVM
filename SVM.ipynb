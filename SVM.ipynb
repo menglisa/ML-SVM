{
 "cells": [
  {
   "cell_type": "code",
   "execution_count": 1,
   "metadata": {},
   "outputs": [],
   "source": [
    "import pandas as pd\n",
    "import numpy as np\n",
    "import matplotlib.pyplot as plt\n",
    "from sklearn.svm import SVC"
   ]
  },
  {
   "cell_type": "code",
   "execution_count": 2,
   "metadata": {},
   "outputs": [],
   "source": [
    "# PART 1(a) - Linear Separable Data\n",
    "from cvxopt import matrix, solvers # Quadratic Programming solver\n",
    "\n",
    "linsep = pd.read_csv('linsep.txt', header=None)\n",
    "linsep.columns = [\"x1\", \"x2\", \"label\"]\n",
    "X = linsep.drop('label', axis=1)\n",
    "y = linsep['label']\n"
   ]
  },
  {
   "cell_type": "code",
   "execution_count": 3,
   "metadata": {},
   "outputs": [],
   "source": [
    "def find_alphas(X, y, C):\n",
    "    \"\"\"\n",
    "        Minimize\n",
    "        1/2 * w^T w\n",
    "        w.r.t.\n",
    "        y_n (w^T x_n + b) >= 1\n",
    "    \n",
    "        Uses Lagrange multiplier to solve for alphas\n",
    "        Parameters:\n",
    "            X = data\n",
    "            y = labels\n",
    "            C = hardness of margin (will keep at 1e5 to match part 2 library)\n",
    "        Return:\n",
    "            alphas\n",
    "            \n",
    "        P:= H a matrix of size m×m\n",
    "        q:= −1  a vector of size m×1\n",
    "        G:= −diag[1] a diagonal matrix of -1s of size m×m\n",
    "        h:= 0  a vector of zeros of size m×1\n",
    "        A:= y the label vector of size m×1\n",
    "        b:= 0 a scalar\n",
    "            \n",
    "     \"\"\"\n",
    "    m = X.shape[0]  # number of datapoints\n",
    "    n = X.shape[1]  # number of features\n",
    "    \n",
    "    # H_n,m=y_n*y_m<X_n*X_m>\n",
    "    H = y[:, None] * X\n",
    "    # calculate Xn^T*Xm\n",
    "    P = matrix(np.dot(H, H.T))\n",
    "\n",
    "    q = matrix(-np.ones((m, 1)))\n",
    "\n",
    "    G1 = -1 * np.eye(m)\n",
    "    G2 = 1 * np.eye(m)\n",
    "    h1 = np.zeros(m)\n",
    "    h2 = np.zeros(m)\n",
    "    h2.fill(C)\n",
    "\n",
    "    G = matrix(np.concatenate((G1, G2), axis=0))\n",
    "    h = np.concatenate((h1[:, None], h2[:, None]), axis=0)\n",
    "    h = matrix(np.squeeze(h))\n",
    "    \n",
    "    # A = coefficients of the constraint equations (labels(y) in 1 x m dim)\n",
    "    # b is single-col matrix, b = value on the right hand side of the constraint, therefore 0\n",
    "    A = matrix(y.values.reshape(1, -1), (1,100), 'd')\n",
    "    b = matrix(np.zeros(1))\n",
    "\n",
    "    solvers.options['show_progress'] = False\n",
    "    sol = solvers.qp(P, q, G, h, A, b)\n",
    "    alphas = np.array(sol['x'])\n",
    "\n",
    "    return alphas\n",
    "\n",
    "\n",
    "def get_weights_and_intercept(alphas, X, y):\n",
    "    \"\"\"\n",
    "        w = Σ(alphas*y*X)\n",
    "        \n",
    "    \"\"\"\n",
    "    S=(alphas > 1e-4).flatten()\n",
    "    w = np.sum(alphas * y[:, None] * X, axis=0)\n",
    "    b = y[S] - np.dot(X[S], w)\n",
    "    return w, np.array(b)[0]\n",
    "\n",
    "def get_support_vectors(alphas,X):\n",
    "    S=(alphas > 1e-4).flatten()\n",
    "    return X[S]"
   ]
  },
  {
   "cell_type": "code",
   "execution_count": 4,
   "metadata": {},
   "outputs": [],
   "source": [
    "alphas = find_alphas(X, y, 1e5)"
   ]
  },
  {
   "cell_type": "code",
   "execution_count": 5,
   "metadata": {},
   "outputs": [
    {
     "name": "stdout",
     "output_type": "stream",
     "text": [
      "w = [ 7.25005631 -3.86188926]\n",
      "b = -0.10698733678864691\n"
     ]
    }
   ],
   "source": [
    "w, b = get_weights_and_intercept(alphas, X, y)\n",
    "print (\"w =\",np.array(w))\n",
    "print(\"b =\", b)"
   ]
  },
  {
   "cell_type": "code",
   "execution_count": 6,
   "metadata": {},
   "outputs": [
    {
     "name": "stdout",
     "output_type": "stream",
     "text": [
      "Support Vectors:\n",
      "           x1        x2\n",
      "27  0.249794  0.182303\n",
      "83  0.391789  0.966756\n",
      "87  0.020665  0.270032\n"
     ]
    }
   ],
   "source": [
    "support_vectors = get_support_vectors(alphas,X)\n",
    "print('Support Vectors:\\n', support_vectors)"
   ]
  },
  {
   "cell_type": "code",
   "execution_count": 7,
   "metadata": {},
   "outputs": [
    {
     "name": "stdout",
     "output_type": "stream",
     "text": [
      "Hypothesis Equation/Decision Function: \n",
      " g(x)= [ 7.25005631 -3.86188926] · x + -0.10698733678864691\n"
     ]
    }
   ],
   "source": [
    "\"\"\"\n",
    "hyperplane equation: \n",
    "wT * x +b = 0\n",
    "OR\n",
    "w · x + b = 0\n",
    "\"\"\"\n",
    "\n",
    "print('Hypothesis Equation/Decision Function: \\n', 'g(x)=', np.array(w),'·', 'x +', b)"
   ]
  },
  {
   "cell_type": "code",
   "execution_count": 8,
   "metadata": {},
   "outputs": [],
   "source": [
    "## Part 1(b)\n",
    "\n",
    "nonlinsep = pd.read_csv('nonlinsep.txt', header=None)\n",
    "nonlinsep.columns = [\"x1\", \"x2\", \"label\"]\n",
    "X_nls = nonlinsep.drop('label', axis=1)\n",
    "y_nls = nonlinsep['label']\n",
    "\n",
    "# The γ parameter sets the width of the bell-shaped curve. \n",
    "# The larger the value of γ the narrower will be the bell. Small values of γ yield wide bells.\n",
    "# As the value of γ increases the model gets overfits. As the value of γ decreases the model underfits.\n",
    "def gamma(X):\n",
    "    gamma = 1 / (2 * X_nls.var())\n",
    "    gamma = (gamma[0]+gamma[1])/2\n",
    "    return gamma"
   ]
  },
  {
   "cell_type": "code",
   "execution_count": 9,
   "metadata": {},
   "outputs": [],
   "source": [
    "def rbf_kernel(X, X_prime, gamma):\n",
    "    K = np.zeros((X.shape[0], X_prime.shape[0]))\n",
    "    for i, x in enumerate(np.array(X)):\n",
    "        for j, x_prime in enumerate(np.array(X_prime)):\n",
    "            K[i, j] = np.exp(-gamma * np.linalg.norm(x - x_prime) ** 2)\n",
    "    return K"
   ]
  },
  {
   "cell_type": "code",
   "execution_count": 10,
   "metadata": {},
   "outputs": [],
   "source": [
    "def rbf_alphas(X, y, C, gamma):\n",
    "    \n",
    "    m = X.shape[0]  # number of datapoints\n",
    "    n = X.shape[1]  # number of features\n",
    "    \n",
    "    # H_n,m=y_n*y_m<X_n*X_m>\n",
    "    H = y[:, None] * rbf_kernel(X, X, gamma)\n",
    "    # calculate Xn^T*Xm\n",
    "    P = matrix(np.dot(H, H.T))\n",
    "\n",
    "    q = matrix(-np.ones((m, 1)))\n",
    "\n",
    "    G1 = -1 * np.eye(m)\n",
    "    G2 = 1 * np.eye(m)\n",
    "    h1 = np.zeros(m)\n",
    "    h2 = np.zeros(m)\n",
    "    h2.fill(C)\n",
    "\n",
    "    G = matrix(np.concatenate((G1, G2), axis=0))\n",
    "    h = np.concatenate((h1[:, None], h2[:, None]), axis=0)\n",
    "    h = matrix(np.squeeze(h))\n",
    "    \n",
    "    # A = coefficients of the constraint equations (labels(y) in 1 x m dim)\n",
    "    # b is single-col matrix, b = value on the right hand side of the constraint, therefore 0\n",
    "    A = matrix(y.values.reshape(1, -1), (1,100), 'd')\n",
    "    b = matrix(np.zeros(1))\n",
    "\n",
    "    solvers.options['show_progress'] = False\n",
    "    sol = solvers.qp(P, q, G, h, A, b)\n",
    "    alphas = np.array(sol['x'])\n",
    "\n",
    "    return alphas"
   ]
  },
  {
   "cell_type": "code",
   "execution_count": 11,
   "metadata": {},
   "outputs": [],
   "source": [
    "nls_alphas = rbf_alphas(X_nls, y_nls, 1e5, gamma(X_nls))"
   ]
  },
  {
   "cell_type": "code",
   "execution_count": 12,
   "metadata": {},
   "outputs": [
    {
     "name": "stdout",
     "output_type": "stream",
     "text": [
      "w = [-21.94332854  -3.11296292]\n",
      "b = -170.90166989011138\n"
     ]
    }
   ],
   "source": [
    "w_nls, b_nls = get_weights_and_intercept(nls_alphas, X_nls, y_nls)\n",
    "print (\"w =\",np.array(w_nls))\n",
    "print(\"b =\", b_nls)"
   ]
  },
  {
   "cell_type": "code",
   "execution_count": 13,
   "metadata": {},
   "outputs": [
    {
     "name": "stdout",
     "output_type": "stream",
     "text": [
      "Support Vectors:\n",
      "            x1         x2\n",
      "5   -8.474228   5.156216\n",
      "36 -10.260969   2.073918\n",
      "51   1.339331 -10.290988\n",
      "55   9.679177   4.375954\n",
      "71  -9.467609   2.361395\n",
      "94  -6.800023  -7.023843\n",
      "95   9.901435  -0.314831\n"
     ]
    }
   ],
   "source": [
    "support_vectors = get_support_vectors(nls_alphas,X_nls)\n",
    "print('Support Vectors:\\n', support_vectors)"
   ]
  },
  {
   "cell_type": "code",
   "execution_count": 14,
   "metadata": {},
   "outputs": [],
   "source": [
    "## Part 2(a) - linear-separable data\n",
    "\n",
    "linsep = pd.read_csv('linsep.txt', header=None)\n",
    "linsep.columns = [\"x1\", \"x2\", \"label\"]\n",
    "X = linsep.drop('label', axis=1)\n",
    "y = linsep['label']"
   ]
  },
  {
   "cell_type": "code",
   "execution_count": 15,
   "metadata": {},
   "outputs": [
    {
     "data": {
      "text/plain": [
       "SVC(C=100000.0, cache_size=200, class_weight=None, coef0=0.0,\n",
       "    decision_function_shape='ovr', degree=3, gamma='auto_deprecated',\n",
       "    kernel='linear', max_iter=-1, probability=False, random_state=None,\n",
       "    shrinking=True, tol=0.001, verbose=False)"
      ]
     },
     "execution_count": 15,
     "metadata": {},
     "output_type": "execute_result"
    }
   ],
   "source": [
    "# C represents HARDNESS of the margin!\n",
    "# For very large C, the margin is hard, and points cannot lie in it. \n",
    "# For smaller C, the margin is softer, and can grow to encompass some points.\n",
    "svc = SVC(kernel='linear', C=1e5)\n",
    "svc.fit(X, y)"
   ]
  },
  {
   "cell_type": "code",
   "execution_count": 16,
   "metadata": {},
   "outputs": [
    {
     "data": {
      "text/plain": [
       "array([[0.3917889 , 0.96675591],\n",
       "       [0.02066458, 0.27003158],\n",
       "       [0.24979414, 0.18230306]])"
      ]
     },
     "execution_count": 16,
     "metadata": {},
     "output_type": "execute_result"
    }
   ],
   "source": [
    "svc.support_vectors_"
   ]
  },
  {
   "cell_type": "code",
   "execution_count": 17,
   "metadata": {},
   "outputs": [
    {
     "name": "stdout",
     "output_type": "stream",
     "text": [
      "b = -0.10703977170718931\n"
     ]
    }
   ],
   "source": [
    "b = svc.intercept_[0]\n",
    "print(\"b =\",b)"
   ]
  },
  {
   "cell_type": "code",
   "execution_count": 18,
   "metadata": {},
   "outputs": [
    {
     "name": "stdout",
     "output_type": "stream",
     "text": [
      "w = [[ 7.24837069 -3.86099178]]\n",
      "w^T = [[ 7.24837069]\n",
      " [-3.86099178]]\n"
     ]
    }
   ],
   "source": [
    "w = svc.coef_\n",
    "wT = w.T\n",
    "print('w =',w)\n",
    "print(\"w^T =\",wT)"
   ]
  },
  {
   "cell_type": "code",
   "execution_count": 19,
   "metadata": {},
   "outputs": [],
   "source": [
    "def plot_decision_func(X,y,svc):\n",
    "    plt.scatter(np.array(X)[:, 0], np.array(X)[:, 1], c=y, s=30, cmap='spring')\n",
    "\n",
    "    # plot the decision function\n",
    "    ax = plt.gca()\n",
    "    xlim = ax.get_xlim()\n",
    "    ylim = ax.get_ylim()\n",
    "\n",
    "    # create grid to evaluate model\n",
    "    xx = np.linspace(xlim[0], xlim[1], 30)\n",
    "    yy = np.linspace(ylim[0], ylim[1], 30)\n",
    "    YY, XX = np.meshgrid(yy, xx)\n",
    "    xy = np.vstack([XX.ravel(), YY.ravel()]).T\n",
    "    Z = svc.decision_function(xy).reshape(XX.shape)\n",
    "\n",
    "    # plot decision boundary and margins\n",
    "    ax.contour(XX, YY, Z, colors='k', levels=[-1, 0, 1], alpha=0.5, linestyles=['--', '-', '--'])\n",
    "    # plot support vectors\n",
    "    ax.scatter(svc.support_vectors_[:, 0], svc.support_vectors_[:, 1], s=100, linewidth=1, facecolors='none')\n",
    "    plt.show()"
   ]
  },
  {
   "cell_type": "code",
   "execution_count": 20,
   "metadata": {},
   "outputs": [
    {
     "data": {
      "image/png": "[encoded data removed]",
      "text/plain": [
       "<Figure size 432x288 with 1 Axes>"
      ]
     },
     "metadata": {
      "needs_background": "light"
     },
     "output_type": "display_data"
    }
   ],
   "source": [
    "plot_decision_func(X,y,svc)"
   ]
  },
  {
   "cell_type": "code",
   "execution_count": 21,
   "metadata": {},
   "outputs": [
    {
     "name": "stdout",
     "output_type": "stream",
     "text": [
      "Hypothesis Equation/Decision Function: \n",
      " g(x)= [[ 7.24837069]\n",
      " [-3.86099178]] x + -0.10703977170718931\n"
     ]
    }
   ],
   "source": [
    "print('Hypothesis Equation/Decision Function: \\n', 'g(x)=', wT, 'x +', b)"
   ]
  },
  {
   "cell_type": "code",
   "execution_count": 22,
   "metadata": {},
   "outputs": [],
   "source": [
    "# Part 2(b) - nonlinear-separable data with Quadratic Programming solver\n",
    "\n",
    "nonlinsep = pd.read_csv('nonlinsep.txt', header=None)\n",
    "nonlinsep.columns = [\"x1\", \"x2\", \"label\"]\n",
    "X_nls = nonlinsep.drop('label', axis=1)\n",
    "y_nls = nonlinsep['label']"
   ]
  },
  {
   "cell_type": "code",
   "execution_count": 23,
   "metadata": {},
   "outputs": [
    {
     "data": {
      "text/plain": [
       "SVC(C=100000.0, cache_size=200, class_weight=None, coef0=0.0,\n",
       "    decision_function_shape='ovr', degree=3, gamma='scale', kernel='rbf',\n",
       "    max_iter=-1, probability=False, random_state=None, shrinking=True,\n",
       "    tol=0.001, verbose=False)"
      ]
     },
     "execution_count": 23,
     "metadata": {},
     "output_type": "execute_result"
    }
   ],
   "source": [
    "svc_nls = SVC(kernel='rbf', C=1e5, gamma = 'scale')\n",
    "svc_nls.fit(X_nls, y_nls)"
   ]
  },
  {
   "cell_type": "code",
   "execution_count": 24,
   "metadata": {},
   "outputs": [
    {
     "data": {
      "text/plain": [
       "array([[ -9.53754332,  -0.51895777],\n",
       "       [ -9.46760885,   2.36139525],\n",
       "       [  9.90143538,  -0.31483149],\n",
       "       [-10.260969  ,   2.07391791],\n",
       "       [  1.66404809,  12.68562818],\n",
       "       [  1.3393313 , -10.29098822],\n",
       "       [  9.67917724,   4.3759541 ]])"
      ]
     },
     "execution_count": 24,
     "metadata": {},
     "output_type": "execute_result"
    }
   ],
   "source": [
    "svc_nls.support_vectors_"
   ]
  },
  {
   "cell_type": "code",
   "execution_count": 25,
   "metadata": {
    "scrolled": true
   },
   "outputs": [
    {
     "name": "stdout",
     "output_type": "stream",
     "text": [
      "b = 10.076815685489922\n"
     ]
    }
   ],
   "source": [
    "b_nls = svc_nls.intercept_[0]\n",
    "print(\"b =\",b_nls)"
   ]
  },
  {
   "cell_type": "code",
   "execution_count": 26,
   "metadata": {},
   "outputs": [
    {
     "data": {
      "text/plain": [
       "array([[ -72.28213554, -468.33766756,  -25.00392674,  521.27739148,\n",
       "           5.09538275,   15.97661348,   23.27434213]])"
      ]
     },
     "execution_count": 26,
     "metadata": {},
     "output_type": "execute_result"
    }
   ],
   "source": [
    "# dual_coef_ which holds the product alpha_n*y_i\n",
    "# w = alpha_n*y_i\n",
    "w_nls = svc_nls.dual_coef_\n",
    "w_nls"
   ]
  },
  {
   "cell_type": "code",
   "execution_count": 27,
   "metadata": {},
   "outputs": [
    {
     "data": {
      "application/vnd.jupyter.widget-view+json": {
       "model_id": "b8af89b577ef45b393c33380cf58bfba",
       "version_major": 2,
       "version_minor": 0
      },
      "text/plain": [
       "interactive(children=(Dropdown(description='elev', index=1, options=(-25, 25), value=25), IntSlider(value=30, …"
      ]
     },
     "metadata": {},
     "output_type": "display_data"
    }
   ],
   "source": [
    "from ipywidgets import interact, fixed\n",
    "from mpl_toolkits import mplot3d\n",
    "\n",
    "r = np.exp(-(X ** 2).sum(1))\n",
    "\n",
    "def plot_3D(elev=25, azim=30, X=X, y=y):\n",
    "    ax = plt.subplot(projection='3d')\n",
    "    ax.scatter3D(np.array(X)[:, 0], np.array(X)[:, 1], r, c=y, s=50, cmap='spring')\n",
    "    ax.view_init(elev=elev, azim=azim)\n",
    "    ax.set_xlabel('x')\n",
    "    ax.set_ylabel('y')\n",
    "    ax.set_zlabel('r')\n",
    "\n",
    "interact(plot_3D, elev=[-25, 25], azip=(-180, 180),\n",
    "         X=fixed(X_nls), y=fixed(y_nls));"
   ]
  },
  {
   "cell_type": "code",
   "execution_count": 28,
   "metadata": {},
   "outputs": [
    {
     "data": {
      "image/png": "[encoded data removed]",
      "text/plain": [
       "<Figure size 432x288 with 1 Axes>"
      ]
     },
     "metadata": {
      "needs_background": "light"
     },
     "output_type": "display_data"
    }
   ],
   "source": [
    "plot_decision_func(X_nls,y_nls,svc_nls)"
   ]
  },
  {
   "cell_type": "code",
   "execution_count": 29,
   "metadata": {},
   "outputs": [
    {
     "name": "stdout",
     "output_type": "stream",
     "text": [
      "Hypothesis Equation/Decision Function: \n",
      " g(x)= [[ -72.28213554 -468.33766756  -25.00392674  521.27739148    5.09538275\n",
      "    15.97661348   23.27434213]] K(x_n,x) + 10.076815685489922 \n",
      "where K(x_n,x) is the RBF kernel function used.\n"
     ]
    }
   ],
   "source": [
    "print('Hypothesis Equation/Decision Function: \\n', 'g(x)=', w_nls, 'K(x_n,x) +', b_nls, '\\nwhere K(x_n,x) is the RBF kernel function used.')\n",
    "\n"
   ]
  },
  {
   "cell_type": "code",
   "execution_count": 30,
   "metadata": {},
   "outputs": [
    {
     "data": {
      "text/plain": [
       "0.0038566248896485518"
      ]
     },
     "execution_count": 30,
     "metadata": {},
     "output_type": "execute_result"
    }
   ],
   "source": [
    "# The γ parameter sets the width of the bell-shaped curve. \n",
    "# The larger the value of γ the narrower will be the bell. Small values of γ yield wide bells.\n",
    "# As the value of γ increases the model gets overfits. As the value of γ decreases the model underfits.\n",
    "gamma = 1 / (2 * X_nls.var())\n",
    "gamma = (gamma[0]+gamma[1])/2\n",
    "gamma"
   ]
  },
  {
   "cell_type": "code",
   "execution_count": null,
   "metadata": {},
   "outputs": [],
   "source": []
  }
 ],
 "metadata": {
  "kernelspec": {
   "display_name": "Python 3",
   "language": "python",
   "name": "python3"
  },
  "language_info": {
   "codemirror_mode": {
    "name": "ipython",
    "version": 3
   },
   "file_extension": ".py",
   "mimetype": "text/x-python",
   "name": "python",
   "nbconvert_exporter": "python",
   "pygments_lexer": "ipython3",
   "version": "3.7.3"
  }
 },
 "nbformat": 4,
 "nbformat_minor": 2
}
